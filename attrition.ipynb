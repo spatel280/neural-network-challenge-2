{
  "cells": [
    {
      "cell_type": "markdown",
      "metadata": {
        "id": "alIIEHibGc3M"
      },
      "source": [
        "## Part 1: Preprocessing"
      ]
    },
    {
      "cell_type": "code",
      "execution_count": 1,
      "metadata": {
        "colab": {
          "base_uri": "https://localhost:8080/",
          "height": 325
        },
        "id": "6eDUJ4NtGc3P",
        "outputId": "29a8ce6f-0daf-4e90-c9be-50173fea5fbf"
      },
      "outputs": [
        {
          "output_type": "execute_result",
          "data": {
            "text/plain": [
              "   Age Attrition     BusinessTravel              Department  DistanceFromHome  \\\n",
              "0   41       Yes      Travel_Rarely                   Sales                 1   \n",
              "1   49        No  Travel_Frequently  Research & Development                 8   \n",
              "2   37       Yes      Travel_Rarely  Research & Development                 2   \n",
              "3   33        No  Travel_Frequently  Research & Development                 3   \n",
              "4   27        No      Travel_Rarely  Research & Development                 2   \n",
              "\n",
              "   Education EducationField  EnvironmentSatisfaction  HourlyRate  \\\n",
              "0          2  Life Sciences                        2          94   \n",
              "1          1  Life Sciences                        3          61   \n",
              "2          2          Other                        4          92   \n",
              "3          4  Life Sciences                        4          56   \n",
              "4          1        Medical                        1          40   \n",
              "\n",
              "   JobInvolvement  ...  PerformanceRating RelationshipSatisfaction  \\\n",
              "0               3  ...                  3                        1   \n",
              "1               2  ...                  4                        4   \n",
              "2               2  ...                  3                        2   \n",
              "3               3  ...                  3                        3   \n",
              "4               3  ...                  3                        4   \n",
              "\n",
              "   StockOptionLevel TotalWorkingYears  TrainingTimesLastYear WorkLifeBalance  \\\n",
              "0                 0                 8                      0               1   \n",
              "1                 1                10                      3               3   \n",
              "2                 0                 7                      3               3   \n",
              "3                 0                 8                      3               3   \n",
              "4                 1                 6                      3               3   \n",
              "\n",
              "   YearsAtCompany  YearsInCurrentRole  YearsSinceLastPromotion  \\\n",
              "0               6                   4                        0   \n",
              "1              10                   7                        1   \n",
              "2               0                   0                        0   \n",
              "3               8                   7                        3   \n",
              "4               2                   2                        2   \n",
              "\n",
              "   YearsWithCurrManager  \n",
              "0                     5  \n",
              "1                     7  \n",
              "2                     0  \n",
              "3                     0  \n",
              "4                     2  \n",
              "\n",
              "[5 rows x 27 columns]"
            ],
            "text/html": [
              "\n",
              "  <div id=\"df-92c68241-92f8-4133-bae4-29ae42ed44df\" class=\"colab-df-container\">\n",
              "    <div>\n",
              "<style scoped>\n",
              "    .dataframe tbody tr th:only-of-type {\n",
              "        vertical-align: middle;\n",
              "    }\n",
              "\n",
              "    .dataframe tbody tr th {\n",
              "        vertical-align: top;\n",
              "    }\n",
              "\n",
              "    .dataframe thead th {\n",
              "        text-align: right;\n",
              "    }\n",
              "</style>\n",
              "<table border=\"1\" class=\"dataframe\">\n",
              "  <thead>\n",
              "    <tr style=\"text-align: right;\">\n",
              "      <th></th>\n",
              "      <th>Age</th>\n",
              "      <th>Attrition</th>\n",
              "      <th>BusinessTravel</th>\n",
              "      <th>Department</th>\n",
              "      <th>DistanceFromHome</th>\n",
              "      <th>Education</th>\n",
              "      <th>EducationField</th>\n",
              "      <th>EnvironmentSatisfaction</th>\n",
              "      <th>HourlyRate</th>\n",
              "      <th>JobInvolvement</th>\n",
              "      <th>...</th>\n",
              "      <th>PerformanceRating</th>\n",
              "      <th>RelationshipSatisfaction</th>\n",
              "      <th>StockOptionLevel</th>\n",
              "      <th>TotalWorkingYears</th>\n",
              "      <th>TrainingTimesLastYear</th>\n",
              "      <th>WorkLifeBalance</th>\n",
              "      <th>YearsAtCompany</th>\n",
              "      <th>YearsInCurrentRole</th>\n",
              "      <th>YearsSinceLastPromotion</th>\n",
              "      <th>YearsWithCurrManager</th>\n",
              "    </tr>\n",
              "  </thead>\n",
              "  <tbody>\n",
              "    <tr>\n",
              "      <th>0</th>\n",
              "      <td>41</td>\n",
              "      <td>Yes</td>\n",
              "      <td>Travel_Rarely</td>\n",
              "      <td>Sales</td>\n",
              "      <td>1</td>\n",
              "      <td>2</td>\n",
              "      <td>Life Sciences</td>\n",
              "      <td>2</td>\n",
              "      <td>94</td>\n",
              "      <td>3</td>\n",
              "      <td>...</td>\n",
              "      <td>3</td>\n",
              "      <td>1</td>\n",
              "      <td>0</td>\n",
              "      <td>8</td>\n",
              "      <td>0</td>\n",
              "      <td>1</td>\n",
              "      <td>6</td>\n",
              "      <td>4</td>\n",
              "      <td>0</td>\n",
              "      <td>5</td>\n",
              "    </tr>\n",
              "    <tr>\n",
              "      <th>1</th>\n",
              "      <td>49</td>\n",
              "      <td>No</td>\n",
              "      <td>Travel_Frequently</td>\n",
              "      <td>Research &amp; Development</td>\n",
              "      <td>8</td>\n",
              "      <td>1</td>\n",
              "      <td>Life Sciences</td>\n",
              "      <td>3</td>\n",
              "      <td>61</td>\n",
              "      <td>2</td>\n",
              "      <td>...</td>\n",
              "      <td>4</td>\n",
              "      <td>4</td>\n",
              "      <td>1</td>\n",
              "      <td>10</td>\n",
              "      <td>3</td>\n",
              "      <td>3</td>\n",
              "      <td>10</td>\n",
              "      <td>7</td>\n",
              "      <td>1</td>\n",
              "      <td>7</td>\n",
              "    </tr>\n",
              "    <tr>\n",
              "      <th>2</th>\n",
              "      <td>37</td>\n",
              "      <td>Yes</td>\n",
              "      <td>Travel_Rarely</td>\n",
              "      <td>Research &amp; Development</td>\n",
              "      <td>2</td>\n",
              "      <td>2</td>\n",
              "      <td>Other</td>\n",
              "      <td>4</td>\n",
              "      <td>92</td>\n",
              "      <td>2</td>\n",
              "      <td>...</td>\n",
              "      <td>3</td>\n",
              "      <td>2</td>\n",
              "      <td>0</td>\n",
              "      <td>7</td>\n",
              "      <td>3</td>\n",
              "      <td>3</td>\n",
              "      <td>0</td>\n",
              "      <td>0</td>\n",
              "      <td>0</td>\n",
              "      <td>0</td>\n",
              "    </tr>\n",
              "    <tr>\n",
              "      <th>3</th>\n",
              "      <td>33</td>\n",
              "      <td>No</td>\n",
              "      <td>Travel_Frequently</td>\n",
              "      <td>Research &amp; Development</td>\n",
              "      <td>3</td>\n",
              "      <td>4</td>\n",
              "      <td>Life Sciences</td>\n",
              "      <td>4</td>\n",
              "      <td>56</td>\n",
              "      <td>3</td>\n",
              "      <td>...</td>\n",
              "      <td>3</td>\n",
              "      <td>3</td>\n",
              "      <td>0</td>\n",
              "      <td>8</td>\n",
              "      <td>3</td>\n",
              "      <td>3</td>\n",
              "      <td>8</td>\n",
              "      <td>7</td>\n",
              "      <td>3</td>\n",
              "      <td>0</td>\n",
              "    </tr>\n",
              "    <tr>\n",
              "      <th>4</th>\n",
              "      <td>27</td>\n",
              "      <td>No</td>\n",
              "      <td>Travel_Rarely</td>\n",
              "      <td>Research &amp; Development</td>\n",
              "      <td>2</td>\n",
              "      <td>1</td>\n",
              "      <td>Medical</td>\n",
              "      <td>1</td>\n",
              "      <td>40</td>\n",
              "      <td>3</td>\n",
              "      <td>...</td>\n",
              "      <td>3</td>\n",
              "      <td>4</td>\n",
              "      <td>1</td>\n",
              "      <td>6</td>\n",
              "      <td>3</td>\n",
              "      <td>3</td>\n",
              "      <td>2</td>\n",
              "      <td>2</td>\n",
              "      <td>2</td>\n",
              "      <td>2</td>\n",
              "    </tr>\n",
              "  </tbody>\n",
              "</table>\n",
              "<p>5 rows × 27 columns</p>\n",
              "</div>\n",
              "    <div class=\"colab-df-buttons\">\n",
              "\n",
              "  <div class=\"colab-df-container\">\n",
              "    <button class=\"colab-df-convert\" onclick=\"convertToInteractive('df-92c68241-92f8-4133-bae4-29ae42ed44df')\"\n",
              "            title=\"Convert this dataframe to an interactive table.\"\n",
              "            style=\"display:none;\">\n",
              "\n",
              "  <svg xmlns=\"http://www.w3.org/2000/svg\" height=\"24px\" viewBox=\"0 -960 960 960\">\n",
              "    <path d=\"M120-120v-720h720v720H120Zm60-500h600v-160H180v160Zm220 220h160v-160H400v160Zm0 220h160v-160H400v160ZM180-400h160v-160H180v160Zm440 0h160v-160H620v160ZM180-180h160v-160H180v160Zm440 0h160v-160H620v160Z\"/>\n",
              "  </svg>\n",
              "    </button>\n",
              "\n",
              "  <style>\n",
              "    .colab-df-container {\n",
              "      display:flex;\n",
              "      gap: 12px;\n",
              "    }\n",
              "\n",
              "    .colab-df-convert {\n",
              "      background-color: #E8F0FE;\n",
              "      border: none;\n",
              "      border-radius: 50%;\n",
              "      cursor: pointer;\n",
              "      display: none;\n",
              "      fill: #1967D2;\n",
              "      height: 32px;\n",
              "      padding: 0 0 0 0;\n",
              "      width: 32px;\n",
              "    }\n",
              "\n",
              "    .colab-df-convert:hover {\n",
              "      background-color: #E2EBFA;\n",
              "      box-shadow: 0px 1px 2px rgba(60, 64, 67, 0.3), 0px 1px 3px 1px rgba(60, 64, 67, 0.15);\n",
              "      fill: #174EA6;\n",
              "    }\n",
              "\n",
              "    .colab-df-buttons div {\n",
              "      margin-bottom: 4px;\n",
              "    }\n",
              "\n",
              "    [theme=dark] .colab-df-convert {\n",
              "      background-color: #3B4455;\n",
              "      fill: #D2E3FC;\n",
              "    }\n",
              "\n",
              "    [theme=dark] .colab-df-convert:hover {\n",
              "      background-color: #434B5C;\n",
              "      box-shadow: 0px 1px 3px 1px rgba(0, 0, 0, 0.15);\n",
              "      filter: drop-shadow(0px 1px 2px rgba(0, 0, 0, 0.3));\n",
              "      fill: #FFFFFF;\n",
              "    }\n",
              "  </style>\n",
              "\n",
              "    <script>\n",
              "      const buttonEl =\n",
              "        document.querySelector('#df-92c68241-92f8-4133-bae4-29ae42ed44df button.colab-df-convert');\n",
              "      buttonEl.style.display =\n",
              "        google.colab.kernel.accessAllowed ? 'block' : 'none';\n",
              "\n",
              "      async function convertToInteractive(key) {\n",
              "        const element = document.querySelector('#df-92c68241-92f8-4133-bae4-29ae42ed44df');\n",
              "        const dataTable =\n",
              "          await google.colab.kernel.invokeFunction('convertToInteractive',\n",
              "                                                    [key], {});\n",
              "        if (!dataTable) return;\n",
              "\n",
              "        const docLinkHtml = 'Like what you see? Visit the ' +\n",
              "          '<a target=\"_blank\" href=https://colab.research.google.com/notebooks/data_table.ipynb>data table notebook</a>'\n",
              "          + ' to learn more about interactive tables.';\n",
              "        element.innerHTML = '';\n",
              "        dataTable['output_type'] = 'display_data';\n",
              "        await google.colab.output.renderOutput(dataTable, element);\n",
              "        const docLink = document.createElement('div');\n",
              "        docLink.innerHTML = docLinkHtml;\n",
              "        element.appendChild(docLink);\n",
              "      }\n",
              "    </script>\n",
              "  </div>\n",
              "\n",
              "\n",
              "<div id=\"df-21c50de0-06d2-4445-b0c5-177ca262e35e\">\n",
              "  <button class=\"colab-df-quickchart\" onclick=\"quickchart('df-21c50de0-06d2-4445-b0c5-177ca262e35e')\"\n",
              "            title=\"Suggest charts\"\n",
              "            style=\"display:none;\">\n",
              "\n",
              "<svg xmlns=\"http://www.w3.org/2000/svg\" height=\"24px\"viewBox=\"0 0 24 24\"\n",
              "     width=\"24px\">\n",
              "    <g>\n",
              "        <path d=\"M19 3H5c-1.1 0-2 .9-2 2v14c0 1.1.9 2 2 2h14c1.1 0 2-.9 2-2V5c0-1.1-.9-2-2-2zM9 17H7v-7h2v7zm4 0h-2V7h2v10zm4 0h-2v-4h2v4z\"/>\n",
              "    </g>\n",
              "</svg>\n",
              "  </button>\n",
              "\n",
              "<style>\n",
              "  .colab-df-quickchart {\n",
              "      --bg-color: #E8F0FE;\n",
              "      --fill-color: #1967D2;\n",
              "      --hover-bg-color: #E2EBFA;\n",
              "      --hover-fill-color: #174EA6;\n",
              "      --disabled-fill-color: #AAA;\n",
              "      --disabled-bg-color: #DDD;\n",
              "  }\n",
              "\n",
              "  [theme=dark] .colab-df-quickchart {\n",
              "      --bg-color: #3B4455;\n",
              "      --fill-color: #D2E3FC;\n",
              "      --hover-bg-color: #434B5C;\n",
              "      --hover-fill-color: #FFFFFF;\n",
              "      --disabled-bg-color: #3B4455;\n",
              "      --disabled-fill-color: #666;\n",
              "  }\n",
              "\n",
              "  .colab-df-quickchart {\n",
              "    background-color: var(--bg-color);\n",
              "    border: none;\n",
              "    border-radius: 50%;\n",
              "    cursor: pointer;\n",
              "    display: none;\n",
              "    fill: var(--fill-color);\n",
              "    height: 32px;\n",
              "    padding: 0;\n",
              "    width: 32px;\n",
              "  }\n",
              "\n",
              "  .colab-df-quickchart:hover {\n",
              "    background-color: var(--hover-bg-color);\n",
              "    box-shadow: 0 1px 2px rgba(60, 64, 67, 0.3), 0 1px 3px 1px rgba(60, 64, 67, 0.15);\n",
              "    fill: var(--button-hover-fill-color);\n",
              "  }\n",
              "\n",
              "  .colab-df-quickchart-complete:disabled,\n",
              "  .colab-df-quickchart-complete:disabled:hover {\n",
              "    background-color: var(--disabled-bg-color);\n",
              "    fill: var(--disabled-fill-color);\n",
              "    box-shadow: none;\n",
              "  }\n",
              "\n",
              "  .colab-df-spinner {\n",
              "    border: 2px solid var(--fill-color);\n",
              "    border-color: transparent;\n",
              "    border-bottom-color: var(--fill-color);\n",
              "    animation:\n",
              "      spin 1s steps(1) infinite;\n",
              "  }\n",
              "\n",
              "  @keyframes spin {\n",
              "    0% {\n",
              "      border-color: transparent;\n",
              "      border-bottom-color: var(--fill-color);\n",
              "      border-left-color: var(--fill-color);\n",
              "    }\n",
              "    20% {\n",
              "      border-color: transparent;\n",
              "      border-left-color: var(--fill-color);\n",
              "      border-top-color: var(--fill-color);\n",
              "    }\n",
              "    30% {\n",
              "      border-color: transparent;\n",
              "      border-left-color: var(--fill-color);\n",
              "      border-top-color: var(--fill-color);\n",
              "      border-right-color: var(--fill-color);\n",
              "    }\n",
              "    40% {\n",
              "      border-color: transparent;\n",
              "      border-right-color: var(--fill-color);\n",
              "      border-top-color: var(--fill-color);\n",
              "    }\n",
              "    60% {\n",
              "      border-color: transparent;\n",
              "      border-right-color: var(--fill-color);\n",
              "    }\n",
              "    80% {\n",
              "      border-color: transparent;\n",
              "      border-right-color: var(--fill-color);\n",
              "      border-bottom-color: var(--fill-color);\n",
              "    }\n",
              "    90% {\n",
              "      border-color: transparent;\n",
              "      border-bottom-color: var(--fill-color);\n",
              "    }\n",
              "  }\n",
              "</style>\n",
              "\n",
              "  <script>\n",
              "    async function quickchart(key) {\n",
              "      const quickchartButtonEl =\n",
              "        document.querySelector('#' + key + ' button');\n",
              "      quickchartButtonEl.disabled = true;  // To prevent multiple clicks.\n",
              "      quickchartButtonEl.classList.add('colab-df-spinner');\n",
              "      try {\n",
              "        const charts = await google.colab.kernel.invokeFunction(\n",
              "            'suggestCharts', [key], {});\n",
              "      } catch (error) {\n",
              "        console.error('Error during call to suggestCharts:', error);\n",
              "      }\n",
              "      quickchartButtonEl.classList.remove('colab-df-spinner');\n",
              "      quickchartButtonEl.classList.add('colab-df-quickchart-complete');\n",
              "    }\n",
              "    (() => {\n",
              "      let quickchartButtonEl =\n",
              "        document.querySelector('#df-21c50de0-06d2-4445-b0c5-177ca262e35e button');\n",
              "      quickchartButtonEl.style.display =\n",
              "        google.colab.kernel.accessAllowed ? 'block' : 'none';\n",
              "    })();\n",
              "  </script>\n",
              "</div>\n",
              "\n",
              "    </div>\n",
              "  </div>\n"
            ],
            "application/vnd.google.colaboratory.intrinsic+json": {
              "type": "dataframe",
              "variable_name": "attrition_df"
            }
          },
          "metadata": {},
          "execution_count": 1
        }
      ],
      "source": [
        "# Import our dependencies\n",
        "from sklearn.model_selection import train_test_split\n",
        "from sklearn.preprocessing import StandardScaler\n",
        "import pandas as pd\n",
        "import numpy as np\n",
        "from tensorflow.keras.models import Model\n",
        "from tensorflow.keras import layers\n",
        "\n",
        "#  Import and read the attrition data\n",
        "attrition_df = pd.read_csv('https://static.bc-edx.com/ai/ail-v-1-0/m19/lms/datasets/attrition.csv')\n",
        "attrition_df.head()"
      ]
    },
    {
      "cell_type": "code",
      "execution_count": 2,
      "metadata": {
        "colab": {
          "base_uri": "https://localhost:8080/"
        },
        "id": "g22aQSY4Gc3Q",
        "outputId": "1236f380-1185-4d82-c937-29f91bdba4d6"
      },
      "outputs": [
        {
          "output_type": "execute_result",
          "data": {
            "text/plain": [
              "Age                         43\n",
              "Attrition                    2\n",
              "BusinessTravel               3\n",
              "Department                   3\n",
              "DistanceFromHome            29\n",
              "Education                    5\n",
              "EducationField               6\n",
              "EnvironmentSatisfaction      4\n",
              "HourlyRate                  71\n",
              "JobInvolvement               4\n",
              "JobLevel                     5\n",
              "JobRole                      9\n",
              "JobSatisfaction              4\n",
              "MaritalStatus                3\n",
              "NumCompaniesWorked          10\n",
              "OverTime                     2\n",
              "PercentSalaryHike           15\n",
              "PerformanceRating            2\n",
              "RelationshipSatisfaction     4\n",
              "StockOptionLevel             4\n",
              "TotalWorkingYears           40\n",
              "TrainingTimesLastYear        7\n",
              "WorkLifeBalance              4\n",
              "YearsAtCompany              37\n",
              "YearsInCurrentRole          19\n",
              "YearsSinceLastPromotion     16\n",
              "YearsWithCurrManager        18\n",
              "dtype: int64"
            ]
          },
          "metadata": {},
          "execution_count": 2
        }
      ],
      "source": [
        "# Determine the number of unique values in each column.\n",
        "attrition_df.nunique()"
      ]
    },
    {
      "cell_type": "code",
      "source": [
        "attrition_df.info()"
      ],
      "metadata": {
        "colab": {
          "base_uri": "https://localhost:8080/"
        },
        "id": "jWuzgwtZb8lY",
        "outputId": "a5d81c39-dd72-4954-9ce1-38062413552c"
      },
      "execution_count": 3,
      "outputs": [
        {
          "output_type": "stream",
          "name": "stdout",
          "text": [
            "<class 'pandas.core.frame.DataFrame'>\n",
            "RangeIndex: 1470 entries, 0 to 1469\n",
            "Data columns (total 27 columns):\n",
            " #   Column                    Non-Null Count  Dtype \n",
            "---  ------                    --------------  ----- \n",
            " 0   Age                       1470 non-null   int64 \n",
            " 1   Attrition                 1470 non-null   object\n",
            " 2   BusinessTravel            1470 non-null   object\n",
            " 3   Department                1470 non-null   object\n",
            " 4   DistanceFromHome          1470 non-null   int64 \n",
            " 5   Education                 1470 non-null   int64 \n",
            " 6   EducationField            1470 non-null   object\n",
            " 7   EnvironmentSatisfaction   1470 non-null   int64 \n",
            " 8   HourlyRate                1470 non-null   int64 \n",
            " 9   JobInvolvement            1470 non-null   int64 \n",
            " 10  JobLevel                  1470 non-null   int64 \n",
            " 11  JobRole                   1470 non-null   object\n",
            " 12  JobSatisfaction           1470 non-null   int64 \n",
            " 13  MaritalStatus             1470 non-null   object\n",
            " 14  NumCompaniesWorked        1470 non-null   int64 \n",
            " 15  OverTime                  1470 non-null   object\n",
            " 16  PercentSalaryHike         1470 non-null   int64 \n",
            " 17  PerformanceRating         1470 non-null   int64 \n",
            " 18  RelationshipSatisfaction  1470 non-null   int64 \n",
            " 19  StockOptionLevel          1470 non-null   int64 \n",
            " 20  TotalWorkingYears         1470 non-null   int64 \n",
            " 21  TrainingTimesLastYear     1470 non-null   int64 \n",
            " 22  WorkLifeBalance           1470 non-null   int64 \n",
            " 23  YearsAtCompany            1470 non-null   int64 \n",
            " 24  YearsInCurrentRole        1470 non-null   int64 \n",
            " 25  YearsSinceLastPromotion   1470 non-null   int64 \n",
            " 26  YearsWithCurrManager      1470 non-null   int64 \n",
            "dtypes: int64(20), object(7)\n",
            "memory usage: 310.2+ KB\n"
          ]
        }
      ]
    },
    {
      "cell_type": "code",
      "execution_count": 4,
      "metadata": {
        "id": "50vMgBEnJbfM",
        "colab": {
          "base_uri": "https://localhost:8080/",
          "height": 424
        },
        "outputId": "14ad4ddc-3d7d-46f3-de7c-148cd4c51747"
      },
      "outputs": [
        {
          "output_type": "execute_result",
          "data": {
            "text/plain": [
              "     Attrition              Department\n",
              "0          Yes                   Sales\n",
              "1           No  Research & Development\n",
              "2          Yes  Research & Development\n",
              "3           No  Research & Development\n",
              "4           No  Research & Development\n",
              "...        ...                     ...\n",
              "1465        No  Research & Development\n",
              "1466        No  Research & Development\n",
              "1467        No  Research & Development\n",
              "1468        No                   Sales\n",
              "1469        No  Research & Development\n",
              "\n",
              "[1470 rows x 2 columns]"
            ],
            "text/html": [
              "\n",
              "  <div id=\"df-bde59a0d-304d-4f72-9018-190493b0e11d\" class=\"colab-df-container\">\n",
              "    <div>\n",
              "<style scoped>\n",
              "    .dataframe tbody tr th:only-of-type {\n",
              "        vertical-align: middle;\n",
              "    }\n",
              "\n",
              "    .dataframe tbody tr th {\n",
              "        vertical-align: top;\n",
              "    }\n",
              "\n",
              "    .dataframe thead th {\n",
              "        text-align: right;\n",
              "    }\n",
              "</style>\n",
              "<table border=\"1\" class=\"dataframe\">\n",
              "  <thead>\n",
              "    <tr style=\"text-align: right;\">\n",
              "      <th></th>\n",
              "      <th>Attrition</th>\n",
              "      <th>Department</th>\n",
              "    </tr>\n",
              "  </thead>\n",
              "  <tbody>\n",
              "    <tr>\n",
              "      <th>0</th>\n",
              "      <td>Yes</td>\n",
              "      <td>Sales</td>\n",
              "    </tr>\n",
              "    <tr>\n",
              "      <th>1</th>\n",
              "      <td>No</td>\n",
              "      <td>Research &amp; Development</td>\n",
              "    </tr>\n",
              "    <tr>\n",
              "      <th>2</th>\n",
              "      <td>Yes</td>\n",
              "      <td>Research &amp; Development</td>\n",
              "    </tr>\n",
              "    <tr>\n",
              "      <th>3</th>\n",
              "      <td>No</td>\n",
              "      <td>Research &amp; Development</td>\n",
              "    </tr>\n",
              "    <tr>\n",
              "      <th>4</th>\n",
              "      <td>No</td>\n",
              "      <td>Research &amp; Development</td>\n",
              "    </tr>\n",
              "    <tr>\n",
              "      <th>...</th>\n",
              "      <td>...</td>\n",
              "      <td>...</td>\n",
              "    </tr>\n",
              "    <tr>\n",
              "      <th>1465</th>\n",
              "      <td>No</td>\n",
              "      <td>Research &amp; Development</td>\n",
              "    </tr>\n",
              "    <tr>\n",
              "      <th>1466</th>\n",
              "      <td>No</td>\n",
              "      <td>Research &amp; Development</td>\n",
              "    </tr>\n",
              "    <tr>\n",
              "      <th>1467</th>\n",
              "      <td>No</td>\n",
              "      <td>Research &amp; Development</td>\n",
              "    </tr>\n",
              "    <tr>\n",
              "      <th>1468</th>\n",
              "      <td>No</td>\n",
              "      <td>Sales</td>\n",
              "    </tr>\n",
              "    <tr>\n",
              "      <th>1469</th>\n",
              "      <td>No</td>\n",
              "      <td>Research &amp; Development</td>\n",
              "    </tr>\n",
              "  </tbody>\n",
              "</table>\n",
              "<p>1470 rows × 2 columns</p>\n",
              "</div>\n",
              "    <div class=\"colab-df-buttons\">\n",
              "\n",
              "  <div class=\"colab-df-container\">\n",
              "    <button class=\"colab-df-convert\" onclick=\"convertToInteractive('df-bde59a0d-304d-4f72-9018-190493b0e11d')\"\n",
              "            title=\"Convert this dataframe to an interactive table.\"\n",
              "            style=\"display:none;\">\n",
              "\n",
              "  <svg xmlns=\"http://www.w3.org/2000/svg\" height=\"24px\" viewBox=\"0 -960 960 960\">\n",
              "    <path d=\"M120-120v-720h720v720H120Zm60-500h600v-160H180v160Zm220 220h160v-160H400v160Zm0 220h160v-160H400v160ZM180-400h160v-160H180v160Zm440 0h160v-160H620v160ZM180-180h160v-160H180v160Zm440 0h160v-160H620v160Z\"/>\n",
              "  </svg>\n",
              "    </button>\n",
              "\n",
              "  <style>\n",
              "    .colab-df-container {\n",
              "      display:flex;\n",
              "      gap: 12px;\n",
              "    }\n",
              "\n",
              "    .colab-df-convert {\n",
              "      background-color: #E8F0FE;\n",
              "      border: none;\n",
              "      border-radius: 50%;\n",
              "      cursor: pointer;\n",
              "      display: none;\n",
              "      fill: #1967D2;\n",
              "      height: 32px;\n",
              "      padding: 0 0 0 0;\n",
              "      width: 32px;\n",
              "    }\n",
              "\n",
              "    .colab-df-convert:hover {\n",
              "      background-color: #E2EBFA;\n",
              "      box-shadow: 0px 1px 2px rgba(60, 64, 67, 0.3), 0px 1px 3px 1px rgba(60, 64, 67, 0.15);\n",
              "      fill: #174EA6;\n",
              "    }\n",
              "\n",
              "    .colab-df-buttons div {\n",
              "      margin-bottom: 4px;\n",
              "    }\n",
              "\n",
              "    [theme=dark] .colab-df-convert {\n",
              "      background-color: #3B4455;\n",
              "      fill: #D2E3FC;\n",
              "    }\n",
              "\n",
              "    [theme=dark] .colab-df-convert:hover {\n",
              "      background-color: #434B5C;\n",
              "      box-shadow: 0px 1px 3px 1px rgba(0, 0, 0, 0.15);\n",
              "      filter: drop-shadow(0px 1px 2px rgba(0, 0, 0, 0.3));\n",
              "      fill: #FFFFFF;\n",
              "    }\n",
              "  </style>\n",
              "\n",
              "    <script>\n",
              "      const buttonEl =\n",
              "        document.querySelector('#df-bde59a0d-304d-4f72-9018-190493b0e11d button.colab-df-convert');\n",
              "      buttonEl.style.display =\n",
              "        google.colab.kernel.accessAllowed ? 'block' : 'none';\n",
              "\n",
              "      async function convertToInteractive(key) {\n",
              "        const element = document.querySelector('#df-bde59a0d-304d-4f72-9018-190493b0e11d');\n",
              "        const dataTable =\n",
              "          await google.colab.kernel.invokeFunction('convertToInteractive',\n",
              "                                                    [key], {});\n",
              "        if (!dataTable) return;\n",
              "\n",
              "        const docLinkHtml = 'Like what you see? Visit the ' +\n",
              "          '<a target=\"_blank\" href=https://colab.research.google.com/notebooks/data_table.ipynb>data table notebook</a>'\n",
              "          + ' to learn more about interactive tables.';\n",
              "        element.innerHTML = '';\n",
              "        dataTable['output_type'] = 'display_data';\n",
              "        await google.colab.output.renderOutput(dataTable, element);\n",
              "        const docLink = document.createElement('div');\n",
              "        docLink.innerHTML = docLinkHtml;\n",
              "        element.appendChild(docLink);\n",
              "      }\n",
              "    </script>\n",
              "  </div>\n",
              "\n",
              "\n",
              "<div id=\"df-e95ad56c-efac-40bf-ab15-612d516b64cc\">\n",
              "  <button class=\"colab-df-quickchart\" onclick=\"quickchart('df-e95ad56c-efac-40bf-ab15-612d516b64cc')\"\n",
              "            title=\"Suggest charts\"\n",
              "            style=\"display:none;\">\n",
              "\n",
              "<svg xmlns=\"http://www.w3.org/2000/svg\" height=\"24px\"viewBox=\"0 0 24 24\"\n",
              "     width=\"24px\">\n",
              "    <g>\n",
              "        <path d=\"M19 3H5c-1.1 0-2 .9-2 2v14c0 1.1.9 2 2 2h14c1.1 0 2-.9 2-2V5c0-1.1-.9-2-2-2zM9 17H7v-7h2v7zm4 0h-2V7h2v10zm4 0h-2v-4h2v4z\"/>\n",
              "    </g>\n",
              "</svg>\n",
              "  </button>\n",
              "\n",
              "<style>\n",
              "  .colab-df-quickchart {\n",
              "      --bg-color: #E8F0FE;\n",
              "      --fill-color: #1967D2;\n",
              "      --hover-bg-color: #E2EBFA;\n",
              "      --hover-fill-color: #174EA6;\n",
              "      --disabled-fill-color: #AAA;\n",
              "      --disabled-bg-color: #DDD;\n",
              "  }\n",
              "\n",
              "  [theme=dark] .colab-df-quickchart {\n",
              "      --bg-color: #3B4455;\n",
              "      --fill-color: #D2E3FC;\n",
              "      --hover-bg-color: #434B5C;\n",
              "      --hover-fill-color: #FFFFFF;\n",
              "      --disabled-bg-color: #3B4455;\n",
              "      --disabled-fill-color: #666;\n",
              "  }\n",
              "\n",
              "  .colab-df-quickchart {\n",
              "    background-color: var(--bg-color);\n",
              "    border: none;\n",
              "    border-radius: 50%;\n",
              "    cursor: pointer;\n",
              "    display: none;\n",
              "    fill: var(--fill-color);\n",
              "    height: 32px;\n",
              "    padding: 0;\n",
              "    width: 32px;\n",
              "  }\n",
              "\n",
              "  .colab-df-quickchart:hover {\n",
              "    background-color: var(--hover-bg-color);\n",
              "    box-shadow: 0 1px 2px rgba(60, 64, 67, 0.3), 0 1px 3px 1px rgba(60, 64, 67, 0.15);\n",
              "    fill: var(--button-hover-fill-color);\n",
              "  }\n",
              "\n",
              "  .colab-df-quickchart-complete:disabled,\n",
              "  .colab-df-quickchart-complete:disabled:hover {\n",
              "    background-color: var(--disabled-bg-color);\n",
              "    fill: var(--disabled-fill-color);\n",
              "    box-shadow: none;\n",
              "  }\n",
              "\n",
              "  .colab-df-spinner {\n",
              "    border: 2px solid var(--fill-color);\n",
              "    border-color: transparent;\n",
              "    border-bottom-color: var(--fill-color);\n",
              "    animation:\n",
              "      spin 1s steps(1) infinite;\n",
              "  }\n",
              "\n",
              "  @keyframes spin {\n",
              "    0% {\n",
              "      border-color: transparent;\n",
              "      border-bottom-color: var(--fill-color);\n",
              "      border-left-color: var(--fill-color);\n",
              "    }\n",
              "    20% {\n",
              "      border-color: transparent;\n",
              "      border-left-color: var(--fill-color);\n",
              "      border-top-color: var(--fill-color);\n",
              "    }\n",
              "    30% {\n",
              "      border-color: transparent;\n",
              "      border-left-color: var(--fill-color);\n",
              "      border-top-color: var(--fill-color);\n",
              "      border-right-color: var(--fill-color);\n",
              "    }\n",
              "    40% {\n",
              "      border-color: transparent;\n",
              "      border-right-color: var(--fill-color);\n",
              "      border-top-color: var(--fill-color);\n",
              "    }\n",
              "    60% {\n",
              "      border-color: transparent;\n",
              "      border-right-color: var(--fill-color);\n",
              "    }\n",
              "    80% {\n",
              "      border-color: transparent;\n",
              "      border-right-color: var(--fill-color);\n",
              "      border-bottom-color: var(--fill-color);\n",
              "    }\n",
              "    90% {\n",
              "      border-color: transparent;\n",
              "      border-bottom-color: var(--fill-color);\n",
              "    }\n",
              "  }\n",
              "</style>\n",
              "\n",
              "  <script>\n",
              "    async function quickchart(key) {\n",
              "      const quickchartButtonEl =\n",
              "        document.querySelector('#' + key + ' button');\n",
              "      quickchartButtonEl.disabled = true;  // To prevent multiple clicks.\n",
              "      quickchartButtonEl.classList.add('colab-df-spinner');\n",
              "      try {\n",
              "        const charts = await google.colab.kernel.invokeFunction(\n",
              "            'suggestCharts', [key], {});\n",
              "      } catch (error) {\n",
              "        console.error('Error during call to suggestCharts:', error);\n",
              "      }\n",
              "      quickchartButtonEl.classList.remove('colab-df-spinner');\n",
              "      quickchartButtonEl.classList.add('colab-df-quickchart-complete');\n",
              "    }\n",
              "    (() => {\n",
              "      let quickchartButtonEl =\n",
              "        document.querySelector('#df-e95ad56c-efac-40bf-ab15-612d516b64cc button');\n",
              "      quickchartButtonEl.style.display =\n",
              "        google.colab.kernel.accessAllowed ? 'block' : 'none';\n",
              "    })();\n",
              "  </script>\n",
              "</div>\n",
              "\n",
              "  <div id=\"id_959e375a-5093-464d-aadc-7b8b4653b822\">\n",
              "    <style>\n",
              "      .colab-df-generate {\n",
              "        background-color: #E8F0FE;\n",
              "        border: none;\n",
              "        border-radius: 50%;\n",
              "        cursor: pointer;\n",
              "        display: none;\n",
              "        fill: #1967D2;\n",
              "        height: 32px;\n",
              "        padding: 0 0 0 0;\n",
              "        width: 32px;\n",
              "      }\n",
              "\n",
              "      .colab-df-generate:hover {\n",
              "        background-color: #E2EBFA;\n",
              "        box-shadow: 0px 1px 2px rgba(60, 64, 67, 0.3), 0px 1px 3px 1px rgba(60, 64, 67, 0.15);\n",
              "        fill: #174EA6;\n",
              "      }\n",
              "\n",
              "      [theme=dark] .colab-df-generate {\n",
              "        background-color: #3B4455;\n",
              "        fill: #D2E3FC;\n",
              "      }\n",
              "\n",
              "      [theme=dark] .colab-df-generate:hover {\n",
              "        background-color: #434B5C;\n",
              "        box-shadow: 0px 1px 3px 1px rgba(0, 0, 0, 0.15);\n",
              "        filter: drop-shadow(0px 1px 2px rgba(0, 0, 0, 0.3));\n",
              "        fill: #FFFFFF;\n",
              "      }\n",
              "    </style>\n",
              "    <button class=\"colab-df-generate\" onclick=\"generateWithVariable('y_df')\"\n",
              "            title=\"Generate code using this dataframe.\"\n",
              "            style=\"display:none;\">\n",
              "\n",
              "  <svg xmlns=\"http://www.w3.org/2000/svg\" height=\"24px\"viewBox=\"0 0 24 24\"\n",
              "       width=\"24px\">\n",
              "    <path d=\"M7,19H8.4L18.45,9,17,7.55,7,17.6ZM5,21V16.75L18.45,3.32a2,2,0,0,1,2.83,0l1.4,1.43a1.91,1.91,0,0,1,.58,1.4,1.91,1.91,0,0,1-.58,1.4L9.25,21ZM18.45,9,17,7.55Zm-12,3A5.31,5.31,0,0,0,4.9,8.1,5.31,5.31,0,0,0,1,6.5,5.31,5.31,0,0,0,4.9,4.9,5.31,5.31,0,0,0,6.5,1,5.31,5.31,0,0,0,8.1,4.9,5.31,5.31,0,0,0,12,6.5,5.46,5.46,0,0,0,6.5,12Z\"/>\n",
              "  </svg>\n",
              "    </button>\n",
              "    <script>\n",
              "      (() => {\n",
              "      const buttonEl =\n",
              "        document.querySelector('#id_959e375a-5093-464d-aadc-7b8b4653b822 button.colab-df-generate');\n",
              "      buttonEl.style.display =\n",
              "        google.colab.kernel.accessAllowed ? 'block' : 'none';\n",
              "\n",
              "      buttonEl.onclick = () => {\n",
              "        google.colab.notebook.generateWithVariable('y_df');\n",
              "      }\n",
              "      })();\n",
              "    </script>\n",
              "  </div>\n",
              "\n",
              "    </div>\n",
              "  </div>\n"
            ],
            "application/vnd.google.colaboratory.intrinsic+json": {
              "type": "dataframe",
              "variable_name": "y_df",
              "summary": "{\n  \"name\": \"y_df\",\n  \"rows\": 1470,\n  \"fields\": [\n    {\n      \"column\": \"Attrition\",\n      \"properties\": {\n        \"dtype\": \"category\",\n        \"num_unique_values\": 2,\n        \"samples\": [\n          \"No\",\n          \"Yes\"\n        ],\n        \"semantic_type\": \"\",\n        \"description\": \"\"\n      }\n    },\n    {\n      \"column\": \"Department\",\n      \"properties\": {\n        \"dtype\": \"category\",\n        \"num_unique_values\": 3,\n        \"samples\": [\n          \"Sales\",\n          \"Research & Development\"\n        ],\n        \"semantic_type\": \"\",\n        \"description\": \"\"\n      }\n    }\n  ]\n}"
            }
          },
          "metadata": {},
          "execution_count": 4
        }
      ],
      "source": [
        "# Create y_df with the Attrition and Department columns\n",
        "y_df = attrition_df[[\"Attrition\", \"Department\"]]\n",
        "y_df"
      ]
    },
    {
      "cell_type": "code",
      "source": [
        "attrition_df.columns"
      ],
      "metadata": {
        "colab": {
          "base_uri": "https://localhost:8080/"
        },
        "id": "Wd7LuImWQuel",
        "outputId": "53b7481b-01f1-436f-bcb5-8273bb22bff9"
      },
      "execution_count": 5,
      "outputs": [
        {
          "output_type": "execute_result",
          "data": {
            "text/plain": [
              "Index(['Age', 'Attrition', 'BusinessTravel', 'Department', 'DistanceFromHome',\n",
              "       'Education', 'EducationField', 'EnvironmentSatisfaction', 'HourlyRate',\n",
              "       'JobInvolvement', 'JobLevel', 'JobRole', 'JobSatisfaction',\n",
              "       'MaritalStatus', 'NumCompaniesWorked', 'OverTime', 'PercentSalaryHike',\n",
              "       'PerformanceRating', 'RelationshipSatisfaction', 'StockOptionLevel',\n",
              "       'TotalWorkingYears', 'TrainingTimesLastYear', 'WorkLifeBalance',\n",
              "       'YearsAtCompany', 'YearsInCurrentRole', 'YearsSinceLastPromotion',\n",
              "       'YearsWithCurrManager'],\n",
              "      dtype='object')"
            ]
          },
          "metadata": {},
          "execution_count": 5
        }
      ]
    },
    {
      "cell_type": "code",
      "execution_count": 6,
      "metadata": {
        "colab": {
          "base_uri": "https://localhost:8080/"
        },
        "id": "Virka0zLGc3R",
        "outputId": "c910837d-24d6-4ce1-b977-fb65042be838"
      },
      "outputs": [
        {
          "output_type": "execute_result",
          "data": {
            "text/plain": [
              "Age                          int64\n",
              "BusinessTravel              object\n",
              "DistanceFromHome             int64\n",
              "Education                    int64\n",
              "EducationField              object\n",
              "EnvironmentSatisfaction      int64\n",
              "HourlyRate                   int64\n",
              "JobInvolvement               int64\n",
              "JobLevel                     int64\n",
              "JobRole                     object\n",
              "JobSatisfaction              int64\n",
              "MaritalStatus               object\n",
              "NumCompaniesWorked           int64\n",
              "OverTime                    object\n",
              "PercentSalaryHike            int64\n",
              "PerformanceRating            int64\n",
              "RelationshipSatisfaction     int64\n",
              "StockOptionLevel             int64\n",
              "TotalWorkingYears            int64\n",
              "TrainingTimesLastYear        int64\n",
              "WorkLifeBalance              int64\n",
              "YearsAtCompany               int64\n",
              "YearsInCurrentRole           int64\n",
              "YearsSinceLastPromotion      int64\n",
              "YearsWithCurrManager         int64\n",
              "dtype: object"
            ]
          },
          "metadata": {},
          "execution_count": 6
        }
      ],
      "source": [
        "# Create a list of at least 10 column names to use as X data\n",
        "columns_to_X = ['Age', 'BusinessTravel', 'DistanceFromHome',\n",
        "       'Education', 'EducationField', 'EnvironmentSatisfaction', 'HourlyRate',\n",
        "       'JobInvolvement', 'JobLevel', 'JobRole', 'JobSatisfaction',\n",
        "       'MaritalStatus', 'NumCompaniesWorked', 'OverTime', 'PercentSalaryHike',\n",
        "       'PerformanceRating', 'RelationshipSatisfaction', 'StockOptionLevel',\n",
        "       'TotalWorkingYears', 'TrainingTimesLastYear', 'WorkLifeBalance',\n",
        "       'YearsAtCompany', 'YearsInCurrentRole', 'YearsSinceLastPromotion', 'YearsWithCurrManager']\n",
        "\n",
        "\n",
        "# Create X_df using your selected columns\n",
        "X_df = attrition_df[columns_to_X]\n",
        "\n",
        "# Show the data types for X_df\n",
        "X_df.dtypes"
      ]
    },
    {
      "cell_type": "code",
      "source": [
        "X_df[\"BusinessTravel\"].value_counts()"
      ],
      "metadata": {
        "colab": {
          "base_uri": "https://localhost:8080/"
        },
        "id": "wop3nyceUgYp",
        "outputId": "04844c62-25fa-4f48-e3aa-02d8aff6ed99"
      },
      "execution_count": 7,
      "outputs": [
        {
          "output_type": "execute_result",
          "data": {
            "text/plain": [
              "BusinessTravel\n",
              "Travel_Rarely        1043\n",
              "Travel_Frequently     277\n",
              "Non-Travel            150\n",
              "Name: count, dtype: int64"
            ]
          },
          "metadata": {},
          "execution_count": 7
        }
      ]
    },
    {
      "cell_type": "code",
      "source": [
        "X_df[\"EducationField\"].value_counts()"
      ],
      "metadata": {
        "colab": {
          "base_uri": "https://localhost:8080/"
        },
        "id": "nw6_Q5fJUzV4",
        "outputId": "d8204f59-58cc-49df-bcee-d88064760980"
      },
      "execution_count": 8,
      "outputs": [
        {
          "output_type": "execute_result",
          "data": {
            "text/plain": [
              "EducationField\n",
              "Life Sciences       606\n",
              "Medical             464\n",
              "Marketing           159\n",
              "Technical Degree    132\n",
              "Other                82\n",
              "Human Resources      27\n",
              "Name: count, dtype: int64"
            ]
          },
          "metadata": {},
          "execution_count": 8
        }
      ]
    },
    {
      "cell_type": "code",
      "source": [
        "X_df[\"JobRole\"].value_counts()"
      ],
      "metadata": {
        "colab": {
          "base_uri": "https://localhost:8080/"
        },
        "id": "v-Qmu--6UzTR",
        "outputId": "8bfa7479-923b-4063-e52f-3567ac4eb184"
      },
      "execution_count": 9,
      "outputs": [
        {
          "output_type": "execute_result",
          "data": {
            "text/plain": [
              "JobRole\n",
              "Sales Executive              326\n",
              "Research Scientist           292\n",
              "Laboratory Technician        259\n",
              "Manufacturing Director       145\n",
              "Healthcare Representative    131\n",
              "Manager                      102\n",
              "Sales Representative          83\n",
              "Research Director             80\n",
              "Human Resources               52\n",
              "Name: count, dtype: int64"
            ]
          },
          "metadata": {},
          "execution_count": 9
        }
      ]
    },
    {
      "cell_type": "code",
      "source": [
        "X_df[\"MaritalStatus\"].value_counts()"
      ],
      "metadata": {
        "colab": {
          "base_uri": "https://localhost:8080/"
        },
        "id": "wIY5rCwlUzQG",
        "outputId": "4c0b0efb-bfb0-42bb-c594-9791d3702aa5"
      },
      "execution_count": 10,
      "outputs": [
        {
          "output_type": "execute_result",
          "data": {
            "text/plain": [
              "MaritalStatus\n",
              "Married     673\n",
              "Single      470\n",
              "Divorced    327\n",
              "Name: count, dtype: int64"
            ]
          },
          "metadata": {},
          "execution_count": 10
        }
      ]
    },
    {
      "cell_type": "code",
      "source": [
        "X_df[\"OverTime\"].value_counts()"
      ],
      "metadata": {
        "colab": {
          "base_uri": "https://localhost:8080/"
        },
        "id": "zWq_voqUUzKc",
        "outputId": "03fae5c1-f886-4499-8fd2-97267f6a1b65"
      },
      "execution_count": 11,
      "outputs": [
        {
          "output_type": "execute_result",
          "data": {
            "text/plain": [
              "OverTime\n",
              "No     1054\n",
              "Yes     416\n",
              "Name: count, dtype: int64"
            ]
          },
          "metadata": {},
          "execution_count": 11
        }
      ]
    },
    {
      "cell_type": "code",
      "source": [
        "y_df[\"Department\"].value_counts()"
      ],
      "metadata": {
        "colab": {
          "base_uri": "https://localhost:8080/"
        },
        "id": "WGuIWJ9PUzCI",
        "outputId": "bc59e5d4-8d1b-4a12-c1bb-0591595b170a"
      },
      "execution_count": 12,
      "outputs": [
        {
          "output_type": "execute_result",
          "data": {
            "text/plain": [
              "Department\n",
              "Research & Development    961\n",
              "Sales                     446\n",
              "Human Resources            63\n",
              "Name: count, dtype: int64"
            ]
          },
          "metadata": {},
          "execution_count": 12
        }
      ]
    },
    {
      "cell_type": "code",
      "source": [
        "y_df[\"Attrition\"].value_counts()"
      ],
      "metadata": {
        "colab": {
          "base_uri": "https://localhost:8080/"
        },
        "id": "-mKHvd0b6h5r",
        "outputId": "2eb200db-0284-427b-a2ae-ab37341b2427"
      },
      "execution_count": 13,
      "outputs": [
        {
          "output_type": "execute_result",
          "data": {
            "text/plain": [
              "Attrition\n",
              "No     1233\n",
              "Yes     237\n",
              "Name: count, dtype: int64"
            ]
          },
          "metadata": {},
          "execution_count": 13
        }
      ]
    },
    {
      "cell_type": "code",
      "execution_count": 14,
      "metadata": {
        "id": "KaJfdOGUMHMR"
      },
      "outputs": [],
      "source": [
        "# Split the data into training and testing sets\n",
        "from sklearn.model_selection import train_test_split\n",
        "\n",
        "X_train, X_test, y_train, y_test = train_test_split(X_df, y_df, test_size = 0.2, random_state = 42)"
      ]
    },
    {
      "cell_type": "code",
      "execution_count": 15,
      "metadata": {
        "id": "NYubUJqiLCSp"
      },
      "outputs": [],
      "source": [
        "# Convert your X data to numeric data types however you see fit\n",
        "# Add new code cells as necessary\n",
        "from sklearn.preprocessing import LabelEncoder, OneHotEncoder\n",
        "ohe = OneHotEncoder(sparse_output=False)\n",
        "le = LabelEncoder()\n",
        "\n",
        "columns_to_convert_dummy = [\"BusinessTravel\", \"EducationField\", \"JobRole\", \"MaritalStatus\"]\n",
        "columns_to_convert_le = [\"OverTime\"]"
      ]
    },
    {
      "cell_type": "code",
      "source": [
        "def create_dummies(dataframe, column):\n",
        "    # Transform the column using get_dummies()\n",
        "    dummy_columns = pd.get_dummies(dataframe[column], dtype = \"int\")\n",
        "    # Concatenate the dummy_columns onto the original dataframe, and delete the original column that was dummied\n",
        "    dataframe = pd.concat([dataframe, dummy_columns], axis = 1).drop(columns = column)\n",
        "    return dataframe"
      ],
      "metadata": {
        "id": "8SuTx6OrWzao"
      },
      "execution_count": 16,
      "outputs": []
    },
    {
      "cell_type": "code",
      "source": [
        "X_train = create_dummies(X_train, columns_to_convert_dummy)"
      ],
      "metadata": {
        "id": "QovhAgSWc469"
      },
      "execution_count": 17,
      "outputs": []
    },
    {
      "source": [
        "X_test = create_dummies(X_test, columns_to_convert_dummy)"
      ],
      "cell_type": "code",
      "metadata": {
        "id": "JBHXebKuY0ai"
      },
      "execution_count": 18,
      "outputs": []
    },
    {
      "cell_type": "code",
      "source": [
        "X_train['OverTime'] = le.fit_transform(X_train['OverTime'])"
      ],
      "metadata": {
        "id": "6Bq8JYUjjfEL"
      },
      "execution_count": 19,
      "outputs": []
    },
    {
      "cell_type": "code",
      "source": [
        "X_test['OverTime'] = le.fit_transform(X_test['OverTime'])"
      ],
      "metadata": {
        "id": "KHZ00i7AjjA4"
      },
      "execution_count": 20,
      "outputs": []
    },
    {
      "cell_type": "code",
      "source": [
        "X_train.info()"
      ],
      "metadata": {
        "colab": {
          "base_uri": "https://localhost:8080/"
        },
        "id": "2e2PUMroeLSd",
        "outputId": "1ab2f91d-bb80-45b0-e50e-22d0fd092cd0"
      },
      "execution_count": 21,
      "outputs": [
        {
          "output_type": "stream",
          "name": "stdout",
          "text": [
            "<class 'pandas.core.frame.DataFrame'>\n",
            "Index: 1176 entries, 1097 to 1126\n",
            "Data columns (total 42 columns):\n",
            " #   Column                             Non-Null Count  Dtype\n",
            "---  ------                             --------------  -----\n",
            " 0   Age                                1176 non-null   int64\n",
            " 1   DistanceFromHome                   1176 non-null   int64\n",
            " 2   Education                          1176 non-null   int64\n",
            " 3   EnvironmentSatisfaction            1176 non-null   int64\n",
            " 4   HourlyRate                         1176 non-null   int64\n",
            " 5   JobInvolvement                     1176 non-null   int64\n",
            " 6   JobLevel                           1176 non-null   int64\n",
            " 7   JobSatisfaction                    1176 non-null   int64\n",
            " 8   NumCompaniesWorked                 1176 non-null   int64\n",
            " 9   OverTime                           1176 non-null   int64\n",
            " 10  PercentSalaryHike                  1176 non-null   int64\n",
            " 11  PerformanceRating                  1176 non-null   int64\n",
            " 12  RelationshipSatisfaction           1176 non-null   int64\n",
            " 13  StockOptionLevel                   1176 non-null   int64\n",
            " 14  TotalWorkingYears                  1176 non-null   int64\n",
            " 15  TrainingTimesLastYear              1176 non-null   int64\n",
            " 16  WorkLifeBalance                    1176 non-null   int64\n",
            " 17  YearsAtCompany                     1176 non-null   int64\n",
            " 18  YearsInCurrentRole                 1176 non-null   int64\n",
            " 19  YearsSinceLastPromotion            1176 non-null   int64\n",
            " 20  YearsWithCurrManager               1176 non-null   int64\n",
            " 21  BusinessTravel_Non-Travel          1176 non-null   int64\n",
            " 22  BusinessTravel_Travel_Frequently   1176 non-null   int64\n",
            " 23  BusinessTravel_Travel_Rarely       1176 non-null   int64\n",
            " 24  EducationField_Human Resources     1176 non-null   int64\n",
            " 25  EducationField_Life Sciences       1176 non-null   int64\n",
            " 26  EducationField_Marketing           1176 non-null   int64\n",
            " 27  EducationField_Medical             1176 non-null   int64\n",
            " 28  EducationField_Other               1176 non-null   int64\n",
            " 29  EducationField_Technical Degree    1176 non-null   int64\n",
            " 30  JobRole_Healthcare Representative  1176 non-null   int64\n",
            " 31  JobRole_Human Resources            1176 non-null   int64\n",
            " 32  JobRole_Laboratory Technician      1176 non-null   int64\n",
            " 33  JobRole_Manager                    1176 non-null   int64\n",
            " 34  JobRole_Manufacturing Director     1176 non-null   int64\n",
            " 35  JobRole_Research Director          1176 non-null   int64\n",
            " 36  JobRole_Research Scientist         1176 non-null   int64\n",
            " 37  JobRole_Sales Executive            1176 non-null   int64\n",
            " 38  JobRole_Sales Representative       1176 non-null   int64\n",
            " 39  MaritalStatus_Divorced             1176 non-null   int64\n",
            " 40  MaritalStatus_Married              1176 non-null   int64\n",
            " 41  MaritalStatus_Single               1176 non-null   int64\n",
            "dtypes: int64(42)\n",
            "memory usage: 395.1 KB\n"
          ]
        }
      ]
    },
    {
      "cell_type": "code",
      "execution_count": 22,
      "metadata": {
        "id": "EWA-aIA5Gc3T",
        "colab": {
          "base_uri": "https://localhost:8080/"
        },
        "outputId": "c67cf1c7-57dd-440a-f323-4b329c747926"
      },
      "outputs": [
        {
          "output_type": "stream",
          "name": "stdout",
          "text": [
            "[[-1.38855944  1.44039645 -0.86335572 ...  1.8451272  -0.93733358\n",
            "  -0.66288195]\n",
            " [-2.04073779 -0.52269928 -0.86335572 ... -0.54196806 -0.93733358\n",
            "   1.50856422]\n",
            " [-0.84507748  1.31770296 -0.86335572 ...  1.8451272  -0.93733358\n",
            "  -0.66288195]\n",
            " ...\n",
            " [-1.60595222 -0.76808624  1.06322176 ... -0.54196806  1.06685604\n",
            "  -0.66288195]\n",
            " [-0.84507748  0.45884859 -0.86335572 ... -0.54196806  1.06685604\n",
            "  -0.66288195]\n",
            " [ 1.43754676 -0.03192534  0.09993302 ... -0.54196806  1.06685604\n",
            "  -0.66288195]]\n"
          ]
        }
      ],
      "source": [
        "# Create a StandardScaler\n",
        "scaler = StandardScaler()\n",
        "\n",
        "# Fit the StandardScaler to the training data\n",
        "scaler.fit(X_train)\n",
        "\n",
        "# Scale the training and testing data\n",
        "X_train_scaled = scaler.transform(X_train)\n",
        "X_test_scaled = scaler.transform(X_test)\n",
        "print(X_train_scaled)"
      ]
    },
    {
      "cell_type": "code",
      "execution_count": 23,
      "metadata": {
        "colab": {
          "base_uri": "https://localhost:8080/"
        },
        "id": "-z0Mky8vQSz4",
        "outputId": "4f25bbf9-30c0-4f74-e7f1-86f1bbe1140b"
      },
      "outputs": [
        {
          "output_type": "stream",
          "name": "stdout",
          "text": [
            "[[0. 1. 0.]\n",
            " [0. 1. 0.]\n",
            " [0. 0. 1.]\n",
            " ...\n",
            " [0. 1. 0.]\n",
            " [0. 1. 0.]\n",
            " [0. 0. 1.]]\n"
          ]
        }
      ],
      "source": [
        "# Create a OneHotEncoder for the Department column\n",
        "dept_encoder = OneHotEncoder(sparse_output = False)\n",
        "\n",
        "# Fit the encoder to the training data\n",
        "y_train_dept = y_train[\"Department\"].values.reshape(-1, 1)\n",
        "dept_encoded = dept_encoder.fit(y_train_dept)\n",
        "\n",
        "# Create two new variables by applying the encoder\n",
        "# to the training and testing data\n",
        "y_train_dept_encoded = dept_encoder.transform(y_train_dept)\n",
        "y_test_dept_encoded = dept_encoder.transform(y_test[\"Department\"].values.reshape(-1, 1))\n",
        "print(y_train_dept_encoded)"
      ]
    },
    {
      "cell_type": "code",
      "execution_count": 24,
      "metadata": {
        "colab": {
          "base_uri": "https://localhost:8080/"
        },
        "id": "-G4DSpvFRrk4",
        "outputId": "6473d077-2e2a-48b4-c324-be2966f89764"
      },
      "outputs": [
        {
          "output_type": "stream",
          "name": "stdout",
          "text": [
            "[[1. 0.]\n",
            " [1. 0.]\n",
            " [1. 0.]\n",
            " ...\n",
            " [0. 1.]\n",
            " [1. 0.]\n",
            " [1. 0.]]\n"
          ]
        }
      ],
      "source": [
        "# Create a OneHotEncoder for the Attrition column\n",
        "attr_encoder = OneHotEncoder(sparse_output = False)\n",
        "\n",
        "# Fit the encoder to the training data\n",
        "y_train_attr = y_train[\"Attrition\"].values.reshape(-1, 1)\n",
        "attr_encoded = attr_encoder.fit(y_train_attr)\n",
        "\n",
        "# Create two new variables by applying the encoder\n",
        "# to the training and testing data\n",
        "y_train_attr_encoded = attr_encoder.transform(y_train_attr)\n",
        "y_test_attr_encoded = attr_encoder.transform(y_test[\"Attrition\"].values.reshape(-1, 1))\n",
        "print(y_train_attr_encoded)"
      ]
    },
    {
      "cell_type": "markdown",
      "metadata": {
        "id": "ykNmu_WWGc3T"
      },
      "source": [
        "## Create, Compile, and Train the Model"
      ]
    },
    {
      "cell_type": "code",
      "execution_count": 25,
      "metadata": {
        "id": "WUptZqmSGc3T"
      },
      "outputs": [],
      "source": [
        "# Find the number of columns in the X training data\n",
        "X_train.shape[1]\n",
        "\n",
        "# Create the input layer\n",
        "input_layer = layers.Input(shape=(X_train.shape[1],), name='input_features')\n",
        "\n",
        "# Create at least two shared layers\n",
        "shared_layer1 = layers.Dense(64, activation='relu', name = 'shared_layer1')(input_layer)\n",
        "shared_layer2 = layers.Dense(128, activation='relu', name = 'shared_layer2')(shared_layer1)"
      ]
    },
    {
      "cell_type": "code",
      "execution_count": 26,
      "metadata": {
        "id": "JukjTm2yTEqd"
      },
      "outputs": [],
      "source": [
        "# Create a branch for Department\n",
        "# with a hidden layer and an output layer\n",
        "\n",
        "# Create the hidden layer\n",
        "dept_layer1 = layers.Dense(32, activation='relu', name = 'dept_layer_hidden')(shared_layer2)\n",
        "\n",
        "# Create the output layer\n",
        "dept_output_layer = layers.Dense(3, activation = \"softmax\", name=\"dept_output\")(dept_layer1)"
      ]
    },
    {
      "cell_type": "code",
      "execution_count": 27,
      "metadata": {
        "id": "9OqhUiOJUBkR"
      },
      "outputs": [],
      "source": [
        "# Create a branch for Attrition\n",
        "# with a hidden layer and an output layer\n",
        "\n",
        "# Create the hidden layer\n",
        "attr_layer1 = layers.Dense(32, activation='relu', name = 'attr_layer_hidden')(shared_layer2)\n",
        "\n",
        "# Create the output layer\n",
        "attr_output_layer = layers.Dense(2, activation = \"sigmoid\", name=\"attr_output\")(attr_layer1)"
      ]
    },
    {
      "cell_type": "code",
      "execution_count": 28,
      "metadata": {
        "colab": {
          "base_uri": "https://localhost:8080/"
        },
        "id": "twmuejdxGc3T",
        "outputId": "be2702d5-1b50-47ac-bd16-591c49d33100"
      },
      "outputs": [
        {
          "output_type": "stream",
          "name": "stdout",
          "text": [
            "Model: \"model\"\n",
            "__________________________________________________________________________________________________\n",
            " Layer (type)                Output Shape                 Param #   Connected to                  \n",
            "==================================================================================================\n",
            " input_features (InputLayer  [(None, 42)]                 0         []                            \n",
            " )                                                                                                \n",
            "                                                                                                  \n",
            " shared_layer1 (Dense)       (None, 64)                   2752      ['input_features[0][0]']      \n",
            "                                                                                                  \n",
            " shared_layer2 (Dense)       (None, 128)                  8320      ['shared_layer1[0][0]']       \n",
            "                                                                                                  \n",
            " dept_layer_hidden (Dense)   (None, 32)                   4128      ['shared_layer2[0][0]']       \n",
            "                                                                                                  \n",
            " attr_layer_hidden (Dense)   (None, 32)                   4128      ['shared_layer2[0][0]']       \n",
            "                                                                                                  \n",
            " dept_output (Dense)         (None, 3)                    99        ['dept_layer_hidden[0][0]']   \n",
            "                                                                                                  \n",
            " attr_output (Dense)         (None, 2)                    66        ['attr_layer_hidden[0][0]']   \n",
            "                                                                                                  \n",
            "==================================================================================================\n",
            "Total params: 19493 (76.14 KB)\n",
            "Trainable params: 19493 (76.14 KB)\n",
            "Non-trainable params: 0 (0.00 Byte)\n",
            "__________________________________________________________________________________________________\n"
          ]
        }
      ],
      "source": [
        "# Create the model\n",
        "model = Model(inputs=input_layer, outputs=[dept_output_layer, attr_output_layer])\n",
        "\n",
        "# Compile the model\n",
        "model.compile(optimizer='adam',\n",
        "              loss={'dept_output': 'categorical_crossentropy', 'attr_output': 'binary_crossentropy'},\n",
        "              metrics={'dept_output': 'accuracy', 'attr_output': 'accuracy'})\n",
        "\n",
        "# Summarize the model\n",
        "model.summary()"
      ]
    },
    {
      "cell_type": "code",
      "execution_count": 29,
      "metadata": {
        "colab": {
          "base_uri": "https://localhost:8080/"
        },
        "id": "c8oGy0dpGc3U",
        "outputId": "a1684c43-2e37-4e95-c4ea-d1ca2b66fe42"
      },
      "outputs": [
        {
          "output_type": "stream",
          "name": "stdout",
          "text": [
            "Epoch 1/50\n",
            "30/30 [==============================] - 5s 26ms/step - loss: 1.2538 - dept_output_loss: 0.7178 - attr_output_loss: 0.5361 - dept_output_accuracy: 0.6947 - attr_output_accuracy: 0.7830 - val_loss: 0.9875 - val_dept_output_loss: 0.4770 - val_attr_output_loss: 0.5104 - val_dept_output_accuracy: 0.8432 - val_attr_output_accuracy: 0.7966\n",
            "Epoch 2/50\n",
            "30/30 [==============================] - 0s 4ms/step - loss: 0.6841 - dept_output_loss: 0.2664 - attr_output_loss: 0.4177 - dept_output_accuracy: 0.9383 - attr_output_accuracy: 0.8404 - val_loss: 0.6427 - val_dept_output_loss: 0.1768 - val_attr_output_loss: 0.4659 - val_dept_output_accuracy: 0.9280 - val_attr_output_accuracy: 0.7966\n",
            "Epoch 3/50\n",
            "30/30 [==============================] - 0s 5ms/step - loss: 0.4763 - dept_output_loss: 0.0984 - attr_output_loss: 0.3779 - dept_output_accuracy: 0.9755 - attr_output_accuracy: 0.8404 - val_loss: 0.5416 - val_dept_output_loss: 0.1000 - val_attr_output_loss: 0.4416 - val_dept_output_accuracy: 0.9703 - val_attr_output_accuracy: 0.8093\n",
            "Epoch 4/50\n",
            "30/30 [==============================] - 0s 4ms/step - loss: 0.4041 - dept_output_loss: 0.0576 - attr_output_loss: 0.3465 - dept_output_accuracy: 0.9840 - attr_output_accuracy: 0.8479 - val_loss: 0.5172 - val_dept_output_loss: 0.0801 - val_attr_output_loss: 0.4371 - val_dept_output_accuracy: 0.9703 - val_attr_output_accuracy: 0.8347\n",
            "Epoch 5/50\n",
            "30/30 [==============================] - 0s 7ms/step - loss: 0.3569 - dept_output_loss: 0.0410 - attr_output_loss: 0.3159 - dept_output_accuracy: 0.9872 - attr_output_accuracy: 0.8713 - val_loss: 0.5047 - val_dept_output_loss: 0.0617 - val_attr_output_loss: 0.4430 - val_dept_output_accuracy: 0.9831 - val_attr_output_accuracy: 0.8347\n",
            "Epoch 6/50\n",
            "30/30 [==============================] - 0s 7ms/step - loss: 0.3199 - dept_output_loss: 0.0334 - attr_output_loss: 0.2865 - dept_output_accuracy: 0.9872 - attr_output_accuracy: 0.8936 - val_loss: 0.4828 - val_dept_output_loss: 0.0581 - val_attr_output_loss: 0.4247 - val_dept_output_accuracy: 0.9831 - val_attr_output_accuracy: 0.8263\n",
            "Epoch 7/50\n",
            "30/30 [==============================] - 0s 7ms/step - loss: 0.2902 - dept_output_loss: 0.0230 - attr_output_loss: 0.2672 - dept_output_accuracy: 0.9915 - attr_output_accuracy: 0.8947 - val_loss: 0.5037 - val_dept_output_loss: 0.0626 - val_attr_output_loss: 0.4411 - val_dept_output_accuracy: 0.9703 - val_attr_output_accuracy: 0.8305\n",
            "Epoch 8/50\n",
            "30/30 [==============================] - 0s 7ms/step - loss: 0.2616 - dept_output_loss: 0.0168 - attr_output_loss: 0.2448 - dept_output_accuracy: 0.9957 - attr_output_accuracy: 0.9138 - val_loss: 0.5607 - val_dept_output_loss: 0.1081 - val_attr_output_loss: 0.4526 - val_dept_output_accuracy: 0.9449 - val_attr_output_accuracy: 0.8347\n",
            "Epoch 9/50\n",
            "30/30 [==============================] - 0s 8ms/step - loss: 0.2410 - dept_output_loss: 0.0157 - attr_output_loss: 0.2253 - dept_output_accuracy: 0.9957 - attr_output_accuracy: 0.9138 - val_loss: 0.5567 - val_dept_output_loss: 0.0953 - val_attr_output_loss: 0.4614 - val_dept_output_accuracy: 0.9534 - val_attr_output_accuracy: 0.8305\n",
            "Epoch 10/50\n",
            "30/30 [==============================] - 0s 8ms/step - loss: 0.2184 - dept_output_loss: 0.0107 - attr_output_loss: 0.2078 - dept_output_accuracy: 0.9979 - attr_output_accuracy: 0.9213 - val_loss: 0.5508 - val_dept_output_loss: 0.0773 - val_attr_output_loss: 0.4736 - val_dept_output_accuracy: 0.9661 - val_attr_output_accuracy: 0.8390\n",
            "Epoch 11/50\n",
            "30/30 [==============================] - 0s 7ms/step - loss: 0.1982 - dept_output_loss: 0.0086 - attr_output_loss: 0.1896 - dept_output_accuracy: 1.0000 - attr_output_accuracy: 0.9319 - val_loss: 0.5580 - val_dept_output_loss: 0.0714 - val_attr_output_loss: 0.4866 - val_dept_output_accuracy: 0.9661 - val_attr_output_accuracy: 0.8432\n",
            "Epoch 12/50\n",
            "30/30 [==============================] - 0s 8ms/step - loss: 0.1883 - dept_output_loss: 0.0067 - attr_output_loss: 0.1815 - dept_output_accuracy: 1.0000 - attr_output_accuracy: 0.9277 - val_loss: 0.5355 - val_dept_output_loss: 0.0634 - val_attr_output_loss: 0.4721 - val_dept_output_accuracy: 0.9703 - val_attr_output_accuracy: 0.8220\n",
            "Epoch 13/50\n",
            "30/30 [==============================] - 0s 6ms/step - loss: 0.1678 - dept_output_loss: 0.0059 - attr_output_loss: 0.1619 - dept_output_accuracy: 1.0000 - attr_output_accuracy: 0.9436 - val_loss: 0.5932 - val_dept_output_loss: 0.0805 - val_attr_output_loss: 0.5127 - val_dept_output_accuracy: 0.9576 - val_attr_output_accuracy: 0.8390\n",
            "Epoch 14/50\n",
            "30/30 [==============================] - 0s 7ms/step - loss: 0.1472 - dept_output_loss: 0.0046 - attr_output_loss: 0.1426 - dept_output_accuracy: 1.0000 - attr_output_accuracy: 0.9511 - val_loss: 0.6026 - val_dept_output_loss: 0.0880 - val_attr_output_loss: 0.5146 - val_dept_output_accuracy: 0.9576 - val_attr_output_accuracy: 0.8263\n",
            "Epoch 15/50\n",
            "30/30 [==============================] - 0s 6ms/step - loss: 0.1265 - dept_output_loss: 0.0035 - attr_output_loss: 0.1230 - dept_output_accuracy: 1.0000 - attr_output_accuracy: 0.9681 - val_loss: 0.6160 - val_dept_output_loss: 0.0729 - val_attr_output_loss: 0.5430 - val_dept_output_accuracy: 0.9619 - val_attr_output_accuracy: 0.8347\n",
            "Epoch 16/50\n",
            "30/30 [==============================] - 0s 9ms/step - loss: 0.1156 - dept_output_loss: 0.0033 - attr_output_loss: 0.1123 - dept_output_accuracy: 1.0000 - attr_output_accuracy: 0.9660 - val_loss: 0.6342 - val_dept_output_loss: 0.0923 - val_attr_output_loss: 0.5419 - val_dept_output_accuracy: 0.9492 - val_attr_output_accuracy: 0.8347\n",
            "Epoch 17/50\n",
            "30/30 [==============================] - 0s 9ms/step - loss: 0.0984 - dept_output_loss: 0.0030 - attr_output_loss: 0.0954 - dept_output_accuracy: 1.0000 - attr_output_accuracy: 0.9745 - val_loss: 0.6767 - val_dept_output_loss: 0.0913 - val_attr_output_loss: 0.5854 - val_dept_output_accuracy: 0.9534 - val_attr_output_accuracy: 0.8347\n",
            "Epoch 18/50\n",
            "30/30 [==============================] - 0s 7ms/step - loss: 0.0873 - dept_output_loss: 0.0023 - attr_output_loss: 0.0850 - dept_output_accuracy: 1.0000 - attr_output_accuracy: 0.9766 - val_loss: 0.6780 - val_dept_output_loss: 0.0883 - val_attr_output_loss: 0.5897 - val_dept_output_accuracy: 0.9576 - val_attr_output_accuracy: 0.8220\n",
            "Epoch 19/50\n",
            "30/30 [==============================] - 0s 7ms/step - loss: 0.0703 - dept_output_loss: 0.0019 - attr_output_loss: 0.0684 - dept_output_accuracy: 1.0000 - attr_output_accuracy: 0.9862 - val_loss: 0.7404 - val_dept_output_loss: 0.0796 - val_attr_output_loss: 0.6609 - val_dept_output_accuracy: 0.9576 - val_attr_output_accuracy: 0.8263\n",
            "Epoch 20/50\n",
            "30/30 [==============================] - 0s 9ms/step - loss: 0.0611 - dept_output_loss: 0.0018 - attr_output_loss: 0.0593 - dept_output_accuracy: 1.0000 - attr_output_accuracy: 0.9851 - val_loss: 0.7741 - val_dept_output_loss: 0.0921 - val_attr_output_loss: 0.6820 - val_dept_output_accuracy: 0.9576 - val_attr_output_accuracy: 0.8051\n",
            "Epoch 21/50\n",
            "30/30 [==============================] - 0s 8ms/step - loss: 0.0531 - dept_output_loss: 0.0015 - attr_output_loss: 0.0516 - dept_output_accuracy: 1.0000 - attr_output_accuracy: 0.9947 - val_loss: 0.8539 - val_dept_output_loss: 0.0870 - val_attr_output_loss: 0.7669 - val_dept_output_accuracy: 0.9576 - val_attr_output_accuracy: 0.8220\n",
            "Epoch 22/50\n",
            "30/30 [==============================] - 0s 7ms/step - loss: 0.0429 - dept_output_loss: 0.0014 - attr_output_loss: 0.0415 - dept_output_accuracy: 1.0000 - attr_output_accuracy: 0.9926 - val_loss: 0.8751 - val_dept_output_loss: 0.0916 - val_attr_output_loss: 0.7835 - val_dept_output_accuracy: 0.9576 - val_attr_output_accuracy: 0.8008\n",
            "Epoch 23/50\n",
            "30/30 [==============================] - 0s 7ms/step - loss: 0.0376 - dept_output_loss: 0.0012 - attr_output_loss: 0.0364 - dept_output_accuracy: 1.0000 - attr_output_accuracy: 0.9926 - val_loss: 0.9011 - val_dept_output_loss: 0.0951 - val_attr_output_loss: 0.8060 - val_dept_output_accuracy: 0.9576 - val_attr_output_accuracy: 0.8220\n",
            "Epoch 24/50\n",
            "30/30 [==============================] - 0s 7ms/step - loss: 0.0270 - dept_output_loss: 0.0011 - attr_output_loss: 0.0260 - dept_output_accuracy: 1.0000 - attr_output_accuracy: 0.9968 - val_loss: 0.9337 - val_dept_output_loss: 0.0941 - val_attr_output_loss: 0.8396 - val_dept_output_accuracy: 0.9576 - val_attr_output_accuracy: 0.8220\n",
            "Epoch 25/50\n",
            "30/30 [==============================] - 0s 7ms/step - loss: 0.0223 - dept_output_loss: 9.5613e-04 - attr_output_loss: 0.0213 - dept_output_accuracy: 1.0000 - attr_output_accuracy: 0.9968 - val_loss: 0.9900 - val_dept_output_loss: 0.0965 - val_attr_output_loss: 0.8935 - val_dept_output_accuracy: 0.9576 - val_attr_output_accuracy: 0.8220\n",
            "Epoch 26/50\n",
            "30/30 [==============================] - 0s 6ms/step - loss: 0.0205 - dept_output_loss: 8.4748e-04 - attr_output_loss: 0.0197 - dept_output_accuracy: 1.0000 - attr_output_accuracy: 0.9968 - val_loss: 1.0257 - val_dept_output_loss: 0.1009 - val_attr_output_loss: 0.9248 - val_dept_output_accuracy: 0.9576 - val_attr_output_accuracy: 0.8178\n",
            "Epoch 27/50\n",
            "30/30 [==============================] - 0s 7ms/step - loss: 0.0171 - dept_output_loss: 7.6725e-04 - attr_output_loss: 0.0164 - dept_output_accuracy: 1.0000 - attr_output_accuracy: 0.9979 - val_loss: 1.0397 - val_dept_output_loss: 0.0938 - val_attr_output_loss: 0.9459 - val_dept_output_accuracy: 0.9576 - val_attr_output_accuracy: 0.8093\n",
            "Epoch 28/50\n",
            "30/30 [==============================] - 0s 6ms/step - loss: 0.0146 - dept_output_loss: 7.5842e-04 - attr_output_loss: 0.0138 - dept_output_accuracy: 1.0000 - attr_output_accuracy: 0.9979 - val_loss: 1.0695 - val_dept_output_loss: 0.1019 - val_attr_output_loss: 0.9676 - val_dept_output_accuracy: 0.9576 - val_attr_output_accuracy: 0.8220\n",
            "Epoch 29/50\n",
            "30/30 [==============================] - 0s 8ms/step - loss: 0.0116 - dept_output_loss: 6.6317e-04 - attr_output_loss: 0.0109 - dept_output_accuracy: 1.0000 - attr_output_accuracy: 0.9989 - val_loss: 1.0977 - val_dept_output_loss: 0.1010 - val_attr_output_loss: 0.9966 - val_dept_output_accuracy: 0.9576 - val_attr_output_accuracy: 0.8136\n",
            "Epoch 30/50\n",
            "30/30 [==============================] - 0s 7ms/step - loss: 0.0096 - dept_output_loss: 6.2998e-04 - attr_output_loss: 0.0090 - dept_output_accuracy: 1.0000 - attr_output_accuracy: 0.9989 - val_loss: 1.1651 - val_dept_output_loss: 0.0983 - val_attr_output_loss: 1.0668 - val_dept_output_accuracy: 0.9576 - val_attr_output_accuracy: 0.8136\n",
            "Epoch 31/50\n",
            "30/30 [==============================] - 0s 6ms/step - loss: 0.0073 - dept_output_loss: 5.3209e-04 - attr_output_loss: 0.0068 - dept_output_accuracy: 1.0000 - attr_output_accuracy: 0.9989 - val_loss: 1.1688 - val_dept_output_loss: 0.1108 - val_attr_output_loss: 1.0579 - val_dept_output_accuracy: 0.9576 - val_attr_output_accuracy: 0.8220\n",
            "Epoch 32/50\n",
            "30/30 [==============================] - 0s 7ms/step - loss: 0.0063 - dept_output_loss: 4.8342e-04 - attr_output_loss: 0.0058 - dept_output_accuracy: 1.0000 - attr_output_accuracy: 0.9989 - val_loss: 1.2213 - val_dept_output_loss: 0.1133 - val_attr_output_loss: 1.1080 - val_dept_output_accuracy: 0.9576 - val_attr_output_accuracy: 0.8178\n",
            "Epoch 33/50\n",
            "30/30 [==============================] - 0s 6ms/step - loss: 0.0051 - dept_output_loss: 4.3380e-04 - attr_output_loss: 0.0046 - dept_output_accuracy: 1.0000 - attr_output_accuracy: 1.0000 - val_loss: 1.2549 - val_dept_output_loss: 0.1078 - val_attr_output_loss: 1.1471 - val_dept_output_accuracy: 0.9576 - val_attr_output_accuracy: 0.8178\n",
            "Epoch 34/50\n",
            "30/30 [==============================] - 0s 6ms/step - loss: 0.0044 - dept_output_loss: 4.1307e-04 - attr_output_loss: 0.0040 - dept_output_accuracy: 1.0000 - attr_output_accuracy: 1.0000 - val_loss: 1.2798 - val_dept_output_loss: 0.1081 - val_attr_output_loss: 1.1716 - val_dept_output_accuracy: 0.9576 - val_attr_output_accuracy: 0.8136\n",
            "Epoch 35/50\n",
            "30/30 [==============================] - 0s 7ms/step - loss: 0.0038 - dept_output_loss: 3.7662e-04 - attr_output_loss: 0.0034 - dept_output_accuracy: 1.0000 - attr_output_accuracy: 1.0000 - val_loss: 1.3050 - val_dept_output_loss: 0.1103 - val_attr_output_loss: 1.1947 - val_dept_output_accuracy: 0.9576 - val_attr_output_accuracy: 0.8178\n",
            "Epoch 36/50\n",
            "30/30 [==============================] - 0s 9ms/step - loss: 0.0033 - dept_output_loss: 3.4124e-04 - attr_output_loss: 0.0030 - dept_output_accuracy: 1.0000 - attr_output_accuracy: 1.0000 - val_loss: 1.3280 - val_dept_output_loss: 0.1142 - val_attr_output_loss: 1.2138 - val_dept_output_accuracy: 0.9576 - val_attr_output_accuracy: 0.8220\n",
            "Epoch 37/50\n",
            "30/30 [==============================] - 0s 7ms/step - loss: 0.0029 - dept_output_loss: 3.0803e-04 - attr_output_loss: 0.0026 - dept_output_accuracy: 1.0000 - attr_output_accuracy: 1.0000 - val_loss: 1.3450 - val_dept_output_loss: 0.1136 - val_attr_output_loss: 1.2314 - val_dept_output_accuracy: 0.9576 - val_attr_output_accuracy: 0.8178\n",
            "Epoch 38/50\n",
            "30/30 [==============================] - 0s 10ms/step - loss: 0.0026 - dept_output_loss: 2.8804e-04 - attr_output_loss: 0.0023 - dept_output_accuracy: 1.0000 - attr_output_accuracy: 1.0000 - val_loss: 1.3729 - val_dept_output_loss: 0.1160 - val_attr_output_loss: 1.2569 - val_dept_output_accuracy: 0.9576 - val_attr_output_accuracy: 0.8178\n",
            "Epoch 39/50\n",
            "30/30 [==============================] - 0s 6ms/step - loss: 0.0023 - dept_output_loss: 2.6663e-04 - attr_output_loss: 0.0020 - dept_output_accuracy: 1.0000 - attr_output_accuracy: 1.0000 - val_loss: 1.3976 - val_dept_output_loss: 0.1188 - val_attr_output_loss: 1.2788 - val_dept_output_accuracy: 0.9576 - val_attr_output_accuracy: 0.8178\n",
            "Epoch 40/50\n",
            "30/30 [==============================] - 0s 6ms/step - loss: 0.0021 - dept_output_loss: 2.5394e-04 - attr_output_loss: 0.0018 - dept_output_accuracy: 1.0000 - attr_output_accuracy: 1.0000 - val_loss: 1.4235 - val_dept_output_loss: 0.1201 - val_attr_output_loss: 1.3033 - val_dept_output_accuracy: 0.9576 - val_attr_output_accuracy: 0.8136\n",
            "Epoch 41/50\n",
            "30/30 [==============================] - 0s 5ms/step - loss: 0.0019 - dept_output_loss: 2.3361e-04 - attr_output_loss: 0.0016 - dept_output_accuracy: 1.0000 - attr_output_accuracy: 1.0000 - val_loss: 1.4386 - val_dept_output_loss: 0.1214 - val_attr_output_loss: 1.3173 - val_dept_output_accuracy: 0.9576 - val_attr_output_accuracy: 0.8136\n",
            "Epoch 42/50\n",
            "30/30 [==============================] - 0s 4ms/step - loss: 0.0017 - dept_output_loss: 2.1982e-04 - attr_output_loss: 0.0015 - dept_output_accuracy: 1.0000 - attr_output_accuracy: 1.0000 - val_loss: 1.4552 - val_dept_output_loss: 0.1218 - val_attr_output_loss: 1.3335 - val_dept_output_accuracy: 0.9576 - val_attr_output_accuracy: 0.8136\n",
            "Epoch 43/50\n",
            "30/30 [==============================] - 0s 4ms/step - loss: 0.0016 - dept_output_loss: 2.0646e-04 - attr_output_loss: 0.0014 - dept_output_accuracy: 1.0000 - attr_output_accuracy: 1.0000 - val_loss: 1.4677 - val_dept_output_loss: 0.1230 - val_attr_output_loss: 1.3448 - val_dept_output_accuracy: 0.9576 - val_attr_output_accuracy: 0.8136\n",
            "Epoch 44/50\n",
            "30/30 [==============================] - 0s 4ms/step - loss: 0.0015 - dept_output_loss: 1.9708e-04 - attr_output_loss: 0.0013 - dept_output_accuracy: 1.0000 - attr_output_accuracy: 1.0000 - val_loss: 1.4816 - val_dept_output_loss: 0.1202 - val_attr_output_loss: 1.3614 - val_dept_output_accuracy: 0.9576 - val_attr_output_accuracy: 0.8136\n",
            "Epoch 45/50\n",
            "30/30 [==============================] - 0s 4ms/step - loss: 0.0014 - dept_output_loss: 1.8328e-04 - attr_output_loss: 0.0012 - dept_output_accuracy: 1.0000 - attr_output_accuracy: 1.0000 - val_loss: 1.4882 - val_dept_output_loss: 0.1227 - val_attr_output_loss: 1.3655 - val_dept_output_accuracy: 0.9576 - val_attr_output_accuracy: 0.8220\n",
            "Epoch 46/50\n",
            "30/30 [==============================] - 0s 4ms/step - loss: 0.0013 - dept_output_loss: 1.7748e-04 - attr_output_loss: 0.0011 - dept_output_accuracy: 1.0000 - attr_output_accuracy: 1.0000 - val_loss: 1.5154 - val_dept_output_loss: 0.1254 - val_attr_output_loss: 1.3900 - val_dept_output_accuracy: 0.9576 - val_attr_output_accuracy: 0.8136\n",
            "Epoch 47/50\n",
            "30/30 [==============================] - 0s 4ms/step - loss: 0.0012 - dept_output_loss: 1.6249e-04 - attr_output_loss: 9.9910e-04 - dept_output_accuracy: 1.0000 - attr_output_accuracy: 1.0000 - val_loss: 1.5310 - val_dept_output_loss: 0.1223 - val_attr_output_loss: 1.4087 - val_dept_output_accuracy: 0.9576 - val_attr_output_accuracy: 0.8136\n",
            "Epoch 48/50\n",
            "30/30 [==============================] - 0s 5ms/step - loss: 0.0011 - dept_output_loss: 1.5537e-04 - attr_output_loss: 9.4022e-04 - dept_output_accuracy: 1.0000 - attr_output_accuracy: 1.0000 - val_loss: 1.5482 - val_dept_output_loss: 0.1243 - val_attr_output_loss: 1.4240 - val_dept_output_accuracy: 0.9576 - val_attr_output_accuracy: 0.8136\n",
            "Epoch 49/50\n",
            "30/30 [==============================] - 0s 4ms/step - loss: 0.0010 - dept_output_loss: 1.4799e-04 - attr_output_loss: 8.6214e-04 - dept_output_accuracy: 1.0000 - attr_output_accuracy: 1.0000 - val_loss: 1.5418 - val_dept_output_loss: 0.1280 - val_attr_output_loss: 1.4138 - val_dept_output_accuracy: 0.9576 - val_attr_output_accuracy: 0.8178\n",
            "Epoch 50/50\n",
            "30/30 [==============================] - 0s 4ms/step - loss: 9.5055e-04 - dept_output_loss: 1.4172e-04 - attr_output_loss: 8.0884e-04 - dept_output_accuracy: 1.0000 - attr_output_accuracy: 1.0000 - val_loss: 1.5791 - val_dept_output_loss: 0.1276 - val_attr_output_loss: 1.4515 - val_dept_output_accuracy: 0.9576 - val_attr_output_accuracy: 0.8136\n"
          ]
        },
        {
          "output_type": "execute_result",
          "data": {
            "text/plain": [
              "<keras.src.callbacks.History at 0x7db07de3a8c0>"
            ]
          },
          "metadata": {},
          "execution_count": 29
        }
      ],
      "source": [
        "# Train the model\n",
        "model.fit(\n",
        "    X_train_scaled,\n",
        "    {\n",
        "        'dept_output': y_train_dept_encoded,\n",
        "        'attr_output': y_train_attr_encoded,\n",
        "    },\n",
        "    epochs=50,\n",
        "    batch_size=32,\n",
        "    validation_split=0.2\n",
        ")\n"
      ]
    },
    {
      "cell_type": "code",
      "source": [
        "print(X_train_scaled.shape)\n",
        "print(y_train_dept_encoded.shape)\n",
        "print(y_train_attr_encoded.shape)"
      ],
      "metadata": {
        "colab": {
          "base_uri": "https://localhost:8080/"
        },
        "id": "BW3EBs3u-gtC",
        "outputId": "cb1764b1-f603-42a8-b667-36b2bfd06854"
      },
      "execution_count": 30,
      "outputs": [
        {
          "output_type": "stream",
          "name": "stdout",
          "text": [
            "(1176, 42)\n",
            "(1176, 3)\n",
            "(1176, 2)\n"
          ]
        }
      ]
    },
    {
      "cell_type": "code",
      "execution_count": 31,
      "metadata": {
        "colab": {
          "base_uri": "https://localhost:8080/"
        },
        "id": "VsMoaQlgGc3U",
        "outputId": "fdd49084-9857-4e28-c826-47683580d053"
      },
      "outputs": [
        {
          "output_type": "stream",
          "name": "stdout",
          "text": [
            "10/10 [==============================] - 0s 5ms/step - loss: 1.2780 - dept_output_loss: 0.0990 - attr_output_loss: 1.1789 - dept_output_accuracy: 0.9694 - attr_output_accuracy: 0.8299\n"
          ]
        },
        {
          "output_type": "execute_result",
          "data": {
            "text/plain": [
              "[1.277982234954834,\n",
              " 0.09904977679252625,\n",
              " 1.1789324283599854,\n",
              " 0.9693877696990967,\n",
              " 0.8299319744110107]"
            ]
          },
          "metadata": {},
          "execution_count": 31
        }
      ],
      "source": [
        "# Evaluate the model with the testing data\n",
        "test_results = model.evaluate(X_test_scaled, {'dept_output': y_test_dept_encoded, 'attr_output': y_test_attr_encoded})\n",
        "test_results"
      ]
    },
    {
      "cell_type": "code",
      "execution_count": 32,
      "metadata": {
        "id": "ZlCtlHi0Vt54",
        "colab": {
          "base_uri": "https://localhost:8080/"
        },
        "outputId": "019bfa2e-1cf6-46c9-840f-5cc708b7ce9f"
      },
      "outputs": [
        {
          "output_type": "stream",
          "name": "stdout",
          "text": [
            "Department predictions accuracy: 0.9693877696990967\n",
            "Attrition predictions accuracy: 0.8299319744110107\n"
          ]
        }
      ],
      "source": [
        "# Print the accuracy for both department and attrition\n",
        "print(f\"Department predictions accuracy: {test_results[3]}\")\n",
        "print(f\"Attrition predictions accuracy: {test_results[4]}\")"
      ]
    },
    {
      "cell_type": "markdown",
      "metadata": {
        "id": "eGSyfsZfWOQM"
      },
      "source": [
        "# Summary\n",
        "\n",
        "In the provided space below, briefly answer the following questions.\n",
        "\n",
        "1. Is accuracy the best metric to use on this data? Why or why not?\n",
        "\n",
        "2. What activation functions did you choose for your output layers, and why?\n",
        "\n",
        "3. Can you name a few ways that this model might be improved?"
      ]
    },
    {
      "cell_type": "markdown",
      "metadata": {
        "id": "pi9SLpFnWvbF"
      },
      "source": [
        "YOUR ANSWERS HERE\n",
        "\n",
        "1. Accuracy may not be the best metric for this data because we have an imbalanced dataset. A balanced accuracy metric may be a better tool to minimize any bias.\n",
        "2. Since there were 3 options for Department, I used softmax given that this activation function will provide a better probability across the 3 options. Since Attrition only had 2 binary choices, I used sigmoid there.\n",
        "3. I would like to eliminate **variables** in my X dataframe that are highly correlated (e.g., Years in Current Role and Years since Last Promotion). I would also play with the **parameters** in the model (e.g., crossentropy type, activation function, validation mix, etc.). Finally, adding **more data** (without overfitting the model) would hopefully provide more accuracy as well."
      ]
    }
  ],
  "metadata": {
    "colab": {
      "provenance": []
    },
    "kernelspec": {
      "display_name": "Python 3",
      "language": "python",
      "name": "python3"
    },
    "language_info": {
      "codemirror_mode": {
        "name": "ipython",
        "version": 3
      },
      "file_extension": ".py",
      "mimetype": "text/x-python",
      "name": "python",
      "nbconvert_exporter": "python",
      "pygments_lexer": "ipython3",
      "version": "3.9.18"
    },
    "vscode": {
      "interpreter": {
        "hash": "31f2aee4e71d21fbe5cf8b01ff0e069b9275f58929596ceb00d14d90e3e16cd6"
      }
    }
  },
  "nbformat": 4,
  "nbformat_minor": 0
}